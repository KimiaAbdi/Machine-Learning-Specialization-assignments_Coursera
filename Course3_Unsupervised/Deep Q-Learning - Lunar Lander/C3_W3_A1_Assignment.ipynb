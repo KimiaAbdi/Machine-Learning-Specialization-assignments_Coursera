{
 "cells": [
  {
   "cell_type": "markdown",
   "metadata": {},
   "source": [
    "# Deep Q-Learning - Lunar Lander\n",
    "\n",
    "In this assignment, you will train an agent to land a lunar lander safely on a landing pad on the surface of the moon.\n",
    "\n",
    "\n",
    "# Outline\n",
    "- [ 1 - Import Packages <img align=\"Right\" src=\"./images/lunar_lander.gif\" width = 60% >](#1)\n",
    "- [ 2 - Hyperparameters](#2)\n",
    "- [ 3 - The Lunar Lander Environment](#3)\n",
    "  - [ 3.1 Action Space](#3.1)\n",
    "  - [ 3.2 Observation Space](#3.2)\n",
    "  - [ 3.3 Rewards](#3.3)\n",
    "  - [ 3.4 Episode Termination](#3.4)\n",
    "- [ 4 - Load the Environment](#4)\n",
    "- [ 5 - Interacting with the Gym Environment](#5)\n",
    "    - [ 5.1 Exploring the Environment's Dynamics](#5.1)\n",
    "- [ 6 - Deep Q-Learning](#6)\n",
    "  - [ 6.1 Target Network](#6.1)\n",
    "    - [ Exercise 1](#ex01)\n",
    "  - [ 6.2 Experience Replay](#6.2)\n",
    "- [ 7 - Deep Q-Learning Algorithm with Experience Replay](#7)\n",
    "  - [ Exercise 2](#ex02)\n",
    "- [ 8 - Update the Network Weights](#8)\n",
    "- [ 9 - Train the Agent](#9)\n",
    "- [ 10 - See the Trained Agent In Action](#10)\n",
    "- [ 11 - Congratulations!](#11)\n",
    "- [ 12 - References](#12)\n"
   ]
  },
  {
   "cell_type": "markdown",
   "metadata": {},
   "source": [
    "_**NOTE:** To prevent errors from the autograder, you are not allowed to edit or delete non-graded cells in this lab. Please also refrain from adding any new cells. \n",
    "**Once you have passed this assignment** and want to experiment with any of the non-graded code, you may follow the instructions at the bottom of this notebook._"
   ]
  },
  {
   "cell_type": "markdown",
   "metadata": {},
   "source": [
    "<a name=\"1\"></a>\n",
    "## 1 - Import Packages\n",
    "\n",
    "We'll make use of the following packages:\n",
    "- `numpy` is a package for scientific computing in python.\n",
    "- `deque` will be our data structure for our memory buffer.\n",
    "- `namedtuple` will be used to store the experience tuples.\n",
    "- The `gym` toolkit is a collection of environments that can be used to test reinforcement learning algorithms. We should note that in this notebook we are using `gym` version `0.24.0`.\n",
    "- `PIL.Image` and `pyvirtualdisplay` are needed to render the Lunar Lander environment.\n",
    "- We will use several modules from the `tensorflow.keras` framework for building deep learning models.\n",
    "- `utils` is a module that contains helper functions for this assignment. You do not need to modify the code in this file.\n",
    "\n",
    "Run the cell below to import all the necessary packages."
   ]
  },
  {
   "cell_type": "code",
   "execution_count": 1,
   "metadata": {
    "deletable": false,
    "editable": false,
    "id": "KYbOPKRtfQOr"
   },
   "outputs": [],
   "source": [
    "import time\n",
    "from collections import deque, namedtuple\n",
    "\n",
    "import gym\n",
    "import numpy as np\n",
    "import PIL.Image\n",
    "import tensorflow as tf\n",
    "import utils\n",
    "\n",
    "from pyvirtualdisplay import Display\n",
    "from tensorflow.keras import Sequential\n",
    "from tensorflow.keras.layers import Dense, Input\n",
    "from tensorflow.keras.losses import MSE\n",
    "from tensorflow.keras.optimizers import Adam"
   ]
  },
  {
   "cell_type": "code",
   "execution_count": 2,
   "metadata": {
    "deletable": false,
    "editable": false
   },
   "outputs": [],
   "source": [
    "# Set up a virtual display to render the Lunar Lander environment.\n",
    "Display(visible=0, size=(840, 480)).start();\n",
    "\n",
    "# Set the random seed for TensorFlow\n",
    "tf.random.set_seed(utils.SEED)"
   ]
  },
  {
   "cell_type": "markdown",
   "metadata": {},
   "source": [
    "<a name=\"2\"></a>\n",
    "## 2 - Hyperparameters\n",
    "\n",
    "Run the cell below to set the hyperparameters."
   ]
  },
  {
   "cell_type": "code",
   "execution_count": 3,
   "metadata": {
    "deletable": false,
    "editable": false
   },
   "outputs": [],
   "source": [
    "MEMORY_SIZE = 100_000     # size of memory buffer\n",
    "GAMMA = 0.995             # discount factor\n",
    "ALPHA = 1e-3              # learning rate  \n",
    "NUM_STEPS_FOR_UPDATE = 4  # perform a learning update every C time steps"
   ]
  },
  {
   "cell_type": "markdown",
   "metadata": {},
   "source": [
    "<a name=\"3\"></a>\n",
    "## 3 - The Lunar Lander Environment\n",
    "\n",
    "In this notebook we will be using [OpenAI's Gym Library](https://www.gymlibrary.dev/). The Gym library provides a wide variety of environments for reinforcement learning. To put it simply, an environment represents a problem or task to be solved. In this notebook, we will try to solve the Lunar Lander environment using reinforcement learning.\n",
    "\n",
    "The goal of the Lunar Lander environment is to land the lunar lander safely on the landing pad on the surface of the moon. The landing pad is designated by two flag poles and its center is at coordinates `(0,0)` but the lander is also allowed to land outside of the landing pad. The lander starts at the top center of the environment with a random initial force applied to its center of mass and has infinite fuel. The environment is considered solved if you get `200` points. \n",
    "\n",
    "<br>\n",
    "<br>\n",
    "<figure>\n",
    "  <img src = \"images/lunar_lander.gif\" width = 40%>\n",
    "      <figcaption style = \"text-align: center; font-style: italic\">Fig 1. Lunar Lander Environment.</figcaption>\n",
    "</figure>\n",
    "\n",
    "\n",
    "\n",
    "<a name=\"3.1\"></a>\n",
    "### 3.1 Action Space\n",
    "\n",
    "The agent has four discrete actions available:\n",
    "\n",
    "* Do nothing.\n",
    "* Fire right engine.\n",
    "* Fire main engine.\n",
    "* Fire left engine.\n",
    "\n",
    "Each action has a corresponding numerical value:\n",
    "\n",
    "```python\n",
    "Do nothing = 0\n",
    "Fire right engine = 1\n",
    "Fire main engine = 2\n",
    "Fire left engine = 3\n",
    "```\n",
    "\n",
    "<a name=\"3.2\"></a>\n",
    "### 3.2 Observation Space\n",
    "\n",
    "The agent's observation space consists of a state vector with 8 variables:\n",
    "\n",
    "* Its $(x,y)$ coordinates. The landing pad is always at coordinates $(0,0)$.\n",
    "* Its linear velocities $(\\dot x,\\dot y)$.\n",
    "* Its angle $\\theta$.\n",
    "* Its angular velocity $\\dot \\theta$.\n",
    "* Two booleans, $l$ and $r$, that represent whether each leg is in contact with the ground or not.\n",
    "\n",
    "<a name=\"3.3\"></a>\n",
    "### 3.3 Rewards\n",
    "\n",
    "After every step, a reward is granted. The total reward of an episode is the sum of the rewards for all the steps within that episode.\n",
    "\n",
    "For each step, the reward:\n",
    "- is increased/decreased the closer/further the lander is to the landing pad.\n",
    "- is increased/decreased the slower/faster the lander is moving.\n",
    "- is decreased the more the lander is tilted (angle not horizontal).\n",
    "- is increased by 10 points for each leg that is in contact with the ground.\n",
    "- is decreased by 0.03 points each frame a side engine is firing.\n",
    "- is decreased by 0.3 points each frame the main engine is firing.\n",
    "\n",
    "The episode receives an additional reward of -100 or +100 points for crashing or landing safely respectively.\n",
    "\n",
    "<a name=\"3.4\"></a>\n",
    "### 3.4 Episode Termination\n",
    "\n",
    "An episode ends (i.e the environment enters a terminal state) if:\n",
    "\n",
    "* The lunar lander crashes (i.e if the body of the lunar lander comes in contact with the surface of the moon).\n",
    "\n",
    "* The absolute value of the lander's $x$-coordinate is greater than 1 (i.e. it goes beyond the left or right border)\n",
    "\n",
    "You can check out the [Open AI Gym documentation](https://www.gymlibrary.dev/environments/box2d/lunar_lander/) for a full description of the environment. "
   ]
  },
  {
   "cell_type": "markdown",
   "metadata": {},
   "source": [
    "<a name=\"4\"></a>\n",
    "## 4 - Load the Environment\n",
    "\n",
    "We start by loading the `LunarLander-v2` environment from the `gym` library by using the `.make()` method. `LunarLander-v2` is the latest version of the Lunar Lander environment and you can read about its version history in the [Open AI Gym documentation](https://www.gymlibrary.dev/environments/box2d/lunar_lander/#version-history)."
   ]
  },
  {
   "cell_type": "code",
   "execution_count": 4,
   "metadata": {
    "deletable": false,
    "editable": false,
    "id": "ILVMYKewfR0n"
   },
   "outputs": [],
   "source": [
    "env = gym.make('LunarLander-v2')"
   ]
  },
  {
   "cell_type": "markdown",
   "metadata": {},
   "source": [
    "Once we load the environment we use the `.reset()` method to reset the environment to the initial state. The lander starts at the top center of the environment and we can render the first frame of the environment by using the `.render()` method."
   ]
  },
  {
   "cell_type": "code",
   "execution_count": 5,
   "metadata": {
    "deletable": false,
    "editable": false
   },
   "outputs": [
    {
     "data": {
      "image/png": "[encoded data removed]",
      "text/plain": [
       "<PIL.Image.Image image mode=RGB size=600x400 at 0x78A62E250D10>"
      ]
     },
     "execution_count": 5,
     "metadata": {},
     "output_type": "execute_result"
    }
   ],
   "source": [
    "env.reset()\n",
    "PIL.Image.fromarray(env.render(mode='rgb_array'))"
   ]
  },
  {
   "cell_type": "markdown",
   "metadata": {},
   "source": [
    "In order to build our neural network later on we need to know the size of the state vector and the number of valid actions. We can get this information from our environment by using the `.observation_space.shape` and `action_space.n` methods, respectively."
   ]
  },
  {
   "cell_type": "code",
   "execution_count": 6,
   "metadata": {
    "deletable": false,
    "editable": false,
    "id": "x3fdqdG4CUu2"
   },
   "outputs": [
    {
     "name": "stdout",
     "output_type": "stream",
     "text": [
      "State Shape: (8,)\n",
      "Number of actions: 4\n"
     ]
    }
   ],
   "source": [
    "state_size = env.observation_space.shape\n",
    "num_actions = env.action_space.n\n",
    "\n",
    "print('State Shape:', state_size)\n",
    "print('Number of actions:', num_actions)"
   ]
  },
  {
   "cell_type": "markdown",
   "metadata": {},
   "source": [
    "<a name=\"5\"></a>\n",
    "## 5 - Interacting with the Gym Environment\n",
    "\n",
    "The Gym library implements the standard “agent-environment loop” formalism:\n",
    "\n",
    "<br>\n",
    "<center>\n",
    "<video src = \"./videos/rl_formalism.m4v\" width=\"840\" height=\"480\" controls autoplay loop poster=\"./images/rl_formalism.png\"> </video>\n",
    "<figcaption style = \"text-align:center; font-style:italic\">Fig 2. Agent-environment Loop Formalism.</figcaption>\n",
    "</center>\n",
    "<br>\n",
    "\n",
    "In the standard “agent-environment loop” formalism, an agent interacts with the environment in discrete time steps $t=0,1,2,...$. At each time step $t$, the agent uses a policy $\\pi$ to select an action $A_t$ based on its observation of the environment's state $S_t$. The agent receives a numerical reward $R_t$ and on the next time step, moves to a new state $S_{t+1}$.\n",
    "\n",
    "<a name=\"5.1\"></a>\n",
    "### 5.1 Exploring the Environment's Dynamics\n",
    "\n",
    "In Open AI's Gym environments, we use the `.step()` method to run a single time step of the environment's dynamics. In the version of `gym` that we are using the `.step()` method accepts an action and returns four values:\n",
    "\n",
    "* `observation` (**object**): an environment-specific object representing your observation of the environment. In the Lunar Lander environment this corresponds to a numpy array containing the positions and velocities of the lander as described in section [3.2 Observation Space](#3.2).\n",
    "\n",
    "\n",
    "* `reward` (**float**): amount of reward returned as a result of taking the given action. In the Lunar Lander environment this corresponds to a float of type `numpy.float64` as described in section [3.3 Rewards](#3.3).\n",
    "\n",
    "\n",
    "* `done` (**boolean**): When done is `True`, it indicates the episode has terminated and it’s time to reset the environment. \n",
    "\n",
    "\n",
    "* `info` (**dictionary**): diagnostic information useful for debugging. We won't be using this variable in this notebook but it is shown here for completeness.\n",
    "\n",
    "To begin an episode, we need to reset the environment to an initial state. We do this by using the `.reset()` method. "
   ]
  },
  {
   "cell_type": "code",
   "execution_count": 7,
   "metadata": {
    "deletable": false,
    "editable": false
   },
   "outputs": [],
   "source": [
    "# Reset the environment and get the initial state.\n",
    "current_state = env.reset()"
   ]
  },
  {
   "cell_type": "markdown",
   "metadata": {},
   "source": [
    "Once the environment is reset, the agent can start taking actions in the environment by using the `.step()` method. Note that the agent can only take one action per time step. \n",
    "\n",
    "In the cell below you can select different actions and see how the returned values change depending on the action taken. Remember that in this environment the agent has four discrete actions available and we specify them in code by using their corresponding numerical value:\n",
    "\n",
    "```python\n",
    "Do nothing = 0\n",
    "Fire right engine = 1\n",
    "Fire main engine = 2\n",
    "Fire left engine = 3\n",
    "```"
   ]
  },
  {
   "cell_type": "code",
   "execution_count": 8,
   "metadata": {
    "deletable": false
   },
   "outputs": [
    {
     "data": {
      "text/html": [
       "<style  type=\"text/css\" >\n",
       "    #T_38427a72_c6ae_11ef_b9d3_0242ac120059 th {\n",
       "          border: 1px solid grey;\n",
       "          text-align: center;\n",
       "    }    #T_38427a72_c6ae_11ef_b9d3_0242ac120059 tbody td {\n",
       "          border: 1px solid grey;\n",
       "          text-align: center;\n",
       "    }    #T_38427a72_c6ae_11ef_b9d3_0242ac120059row0_col0 {\n",
       "            background-color :  grey;\n",
       "        }    #T_38427a72_c6ae_11ef_b9d3_0242ac120059row1_col1 {\n",
       "            background-color :  grey;\n",
       "        }    #T_38427a72_c6ae_11ef_b9d3_0242ac120059row1_col2 {\n",
       "            background-color :  grey;\n",
       "        }    #T_38427a72_c6ae_11ef_b9d3_0242ac120059row1_col3 {\n",
       "            background-color :  grey;\n",
       "        }    #T_38427a72_c6ae_11ef_b9d3_0242ac120059row1_col4 {\n",
       "            background-color :  grey;\n",
       "        }    #T_38427a72_c6ae_11ef_b9d3_0242ac120059row1_col5 {\n",
       "            background-color :  grey;\n",
       "        }    #T_38427a72_c6ae_11ef_b9d3_0242ac120059row1_col6 {\n",
       "            background-color :  grey;\n",
       "        }    #T_38427a72_c6ae_11ef_b9d3_0242ac120059row1_col7 {\n",
       "            background-color :  grey;\n",
       "        }    #T_38427a72_c6ae_11ef_b9d3_0242ac120059row1_col8 {\n",
       "            background-color :  grey;\n",
       "        }    #T_38427a72_c6ae_11ef_b9d3_0242ac120059row1_col9 {\n",
       "            background-color :  grey;\n",
       "        }    #T_38427a72_c6ae_11ef_b9d3_0242ac120059row1_col10 {\n",
       "            background-color :  grey;\n",
       "        }    #T_38427a72_c6ae_11ef_b9d3_0242ac120059row1_col11 {\n",
       "            background-color :  grey;\n",
       "        }    #T_38427a72_c6ae_11ef_b9d3_0242ac120059row2_col0 {\n",
       "            background-color :  grey;\n",
       "        }    #T_38427a72_c6ae_11ef_b9d3_0242ac120059row3_col1 {\n",
       "            background-color :  grey;\n",
       "        }    #T_38427a72_c6ae_11ef_b9d3_0242ac120059row3_col2 {\n",
       "            background-color :  grey;\n",
       "        }    #T_38427a72_c6ae_11ef_b9d3_0242ac120059row3_col3 {\n",
       "            background-color :  grey;\n",
       "        }    #T_38427a72_c6ae_11ef_b9d3_0242ac120059row3_col4 {\n",
       "            background-color :  grey;\n",
       "        }    #T_38427a72_c6ae_11ef_b9d3_0242ac120059row3_col5 {\n",
       "            background-color :  grey;\n",
       "        }    #T_38427a72_c6ae_11ef_b9d3_0242ac120059row3_col6 {\n",
       "            background-color :  grey;\n",
       "        }    #T_38427a72_c6ae_11ef_b9d3_0242ac120059row3_col7 {\n",
       "            background-color :  grey;\n",
       "        }    #T_38427a72_c6ae_11ef_b9d3_0242ac120059row3_col8 {\n",
       "            background-color :  grey;\n",
       "        }    #T_38427a72_c6ae_11ef_b9d3_0242ac120059row3_col9 {\n",
       "            background-color :  grey;\n",
       "        }    #T_38427a72_c6ae_11ef_b9d3_0242ac120059row3_col10 {\n",
       "            background-color :  grey;\n",
       "        }    #T_38427a72_c6ae_11ef_b9d3_0242ac120059row3_col11 {\n",
       "            background-color :  grey;\n",
       "        }    #T_38427a72_c6ae_11ef_b9d3_0242ac120059row4_col1 {\n",
       "            background-color :  grey;\n",
       "        }    #T_38427a72_c6ae_11ef_b9d3_0242ac120059row4_col2 {\n",
       "            background-color :  grey;\n",
       "        }    #T_38427a72_c6ae_11ef_b9d3_0242ac120059row4_col3 {\n",
       "            background-color :  grey;\n",
       "        }    #T_38427a72_c6ae_11ef_b9d3_0242ac120059row4_col4 {\n",
       "            background-color :  grey;\n",
       "        }    #T_38427a72_c6ae_11ef_b9d3_0242ac120059row4_col5 {\n",
       "            background-color :  grey;\n",
       "        }    #T_38427a72_c6ae_11ef_b9d3_0242ac120059row4_col6 {\n",
       "            background-color :  grey;\n",
       "        }    #T_38427a72_c6ae_11ef_b9d3_0242ac120059row4_col7 {\n",
       "            background-color :  grey;\n",
       "        }    #T_38427a72_c6ae_11ef_b9d3_0242ac120059row4_col8 {\n",
       "            background-color :  grey;\n",
       "        }    #T_38427a72_c6ae_11ef_b9d3_0242ac120059row4_col9 {\n",
       "            background-color :  grey;\n",
       "        }    #T_38427a72_c6ae_11ef_b9d3_0242ac120059row4_col10 {\n",
       "            background-color :  grey;\n",
       "        }    #T_38427a72_c6ae_11ef_b9d3_0242ac120059row4_col11 {\n",
       "            background-color :  grey;\n",
       "        }</style><table id=\"T_38427a72_c6ae_11ef_b9d3_0242ac120059\" ><thead>    <tr>        <th class=\"blank level0\" ></th>        <th class=\"col_heading level0 col0\" ></th>        <th class=\"col_heading level0 col1\" colspan=8>State Vector</th>        <th class=\"col_heading level0 col9\" colspan=3>Derived from the State Vector (the closer to zero, the better)</th>    </tr>    <tr>        <th class=\"blank level1\" ></th>        <th class=\"col_heading level1 col0\" ></th>        <th class=\"col_heading level1 col1\" colspan=2>Coordinate</th>        <th class=\"col_heading level1 col3\" colspan=2>Velocity</th>        <th class=\"col_heading level1 col5\" colspan=2>Tilting</th>        <th class=\"col_heading level1 col7\" colspan=2>Ground contact</th>        <th class=\"col_heading level1 col9\" >Distance from landing pad</th>        <th class=\"col_heading level1 col10\" >Velocity</th>        <th class=\"col_heading level1 col11\" >Tilting Angle (absolute value)</th>    </tr>    <tr>        <th class=\"blank level2\" ></th>        <th class=\"col_heading level2 col0\" ></th>        <th class=\"col_heading level2 col1\" >X (Horizontal)</th>        <th class=\"col_heading level2 col2\" >Y (Vertical)</th>        <th class=\"col_heading level2 col3\" >X (Horizontal)</th>        <th class=\"col_heading level2 col4\" >Y (Vertical)</th>        <th class=\"col_heading level2 col5\" >Angle</th>        <th class=\"col_heading level2 col6\" >Angular Velocity</th>        <th class=\"col_heading level2 col7\" >Left Leg?</th>        <th class=\"col_heading level2 col8\" >Right Leg?</th>        <th class=\"col_heading level2 col9\" ></th>        <th class=\"col_heading level2 col10\" ></th>        <th class=\"col_heading level2 col11\" ></th>    </tr></thead><tbody>\n",
       "                <tr>\n",
       "                        <th id=\"T_38427a72_c6ae_11ef_b9d3_0242ac120059level0_row0\" class=\"row_heading level0 row0\" >Current State</th>\n",
       "                        <td id=\"T_38427a72_c6ae_11ef_b9d3_0242ac120059row0_col0\" class=\"data row0 col0\" ></td>\n",
       "                        <td id=\"T_38427a72_c6ae_11ef_b9d3_0242ac120059row0_col1\" class=\"data row0 col1\" >0.001919</td>\n",
       "                        <td id=\"T_38427a72_c6ae_11ef_b9d3_0242ac120059row0_col2\" class=\"data row0 col2\" >1.422301</td>\n",
       "                        <td id=\"T_38427a72_c6ae_11ef_b9d3_0242ac120059row0_col3\" class=\"data row0 col3\" >0.194400</td>\n",
       "                        <td id=\"T_38427a72_c6ae_11ef_b9d3_0242ac120059row0_col4\" class=\"data row0 col4\" >0.505814</td>\n",
       "                        <td id=\"T_38427a72_c6ae_11ef_b9d3_0242ac120059row0_col5\" class=\"data row0 col5\" >-0.002217</td>\n",
       "                        <td id=\"T_38427a72_c6ae_11ef_b9d3_0242ac120059row0_col6\" class=\"data row0 col6\" >-0.044034</td>\n",
       "                        <td id=\"T_38427a72_c6ae_11ef_b9d3_0242ac120059row0_col7\" class=\"data row0 col7\" >False</td>\n",
       "                        <td id=\"T_38427a72_c6ae_11ef_b9d3_0242ac120059row0_col8\" class=\"data row0 col8\" >False</td>\n",
       "                        <td id=\"T_38427a72_c6ae_11ef_b9d3_0242ac120059row0_col9\" class=\"data row0 col9\" >1.422302</td>\n",
       "                        <td id=\"T_38427a72_c6ae_11ef_b9d3_0242ac120059row0_col10\" class=\"data row0 col10\" >0.541885</td>\n",
       "                        <td id=\"T_38427a72_c6ae_11ef_b9d3_0242ac120059row0_col11\" class=\"data row0 col11\" >0.002217</td>\n",
       "            </tr>\n",
       "            <tr>\n",
       "                        <th id=\"T_38427a72_c6ae_11ef_b9d3_0242ac120059level0_row1\" class=\"row_heading level0 row1\" >Action</th>\n",
       "                        <td id=\"T_38427a72_c6ae_11ef_b9d3_0242ac120059row1_col0\" class=\"data row1 col0\" >Do nothing</td>\n",
       "                        <td id=\"T_38427a72_c6ae_11ef_b9d3_0242ac120059row1_col1\" class=\"data row1 col1\" ></td>\n",
       "                        <td id=\"T_38427a72_c6ae_11ef_b9d3_0242ac120059row1_col2\" class=\"data row1 col2\" ></td>\n",
       "                        <td id=\"T_38427a72_c6ae_11ef_b9d3_0242ac120059row1_col3\" class=\"data row1 col3\" ></td>\n",
       "                        <td id=\"T_38427a72_c6ae_11ef_b9d3_0242ac120059row1_col4\" class=\"data row1 col4\" ></td>\n",
       "                        <td id=\"T_38427a72_c6ae_11ef_b9d3_0242ac120059row1_col5\" class=\"data row1 col5\" ></td>\n",
       "                        <td id=\"T_38427a72_c6ae_11ef_b9d3_0242ac120059row1_col6\" class=\"data row1 col6\" ></td>\n",
       "                        <td id=\"T_38427a72_c6ae_11ef_b9d3_0242ac120059row1_col7\" class=\"data row1 col7\" ></td>\n",
       "                        <td id=\"T_38427a72_c6ae_11ef_b9d3_0242ac120059row1_col8\" class=\"data row1 col8\" ></td>\n",
       "                        <td id=\"T_38427a72_c6ae_11ef_b9d3_0242ac120059row1_col9\" class=\"data row1 col9\" ></td>\n",
       "                        <td id=\"T_38427a72_c6ae_11ef_b9d3_0242ac120059row1_col10\" class=\"data row1 col10\" ></td>\n",
       "                        <td id=\"T_38427a72_c6ae_11ef_b9d3_0242ac120059row1_col11\" class=\"data row1 col11\" ></td>\n",
       "            </tr>\n",
       "            <tr>\n",
       "                        <th id=\"T_38427a72_c6ae_11ef_b9d3_0242ac120059level0_row2\" class=\"row_heading level0 row2\" >Next State</th>\n",
       "                        <td id=\"T_38427a72_c6ae_11ef_b9d3_0242ac120059row2_col0\" class=\"data row2 col0\" ></td>\n",
       "                        <td id=\"T_38427a72_c6ae_11ef_b9d3_0242ac120059row2_col1\" class=\"data row2 col1\" >0.003839</td>\n",
       "                        <td id=\"T_38427a72_c6ae_11ef_b9d3_0242ac120059row2_col2\" class=\"data row2 col2\" >1.433103</td>\n",
       "                        <td id=\"T_38427a72_c6ae_11ef_b9d3_0242ac120059row2_col3\" class=\"data row2 col3\" >0.194137</td>\n",
       "                        <td id=\"T_38427a72_c6ae_11ef_b9d3_0242ac120059row2_col4\" class=\"data row2 col4\" >0.480094</td>\n",
       "                        <td id=\"T_38427a72_c6ae_11ef_b9d3_0242ac120059row2_col5\" class=\"data row2 col5\" >-0.004393</td>\n",
       "                        <td id=\"T_38427a72_c6ae_11ef_b9d3_0242ac120059row2_col6\" class=\"data row2 col6\" >-0.043519</td>\n",
       "                        <td id=\"T_38427a72_c6ae_11ef_b9d3_0242ac120059row2_col7\" class=\"data row2 col7\" >False</td>\n",
       "                        <td id=\"T_38427a72_c6ae_11ef_b9d3_0242ac120059row2_col8\" class=\"data row2 col8\" >False</td>\n",
       "                        <td id=\"T_38427a72_c6ae_11ef_b9d3_0242ac120059row2_col9\" class=\"data row2 col9\" >1.433108</td>\n",
       "                        <td id=\"T_38427a72_c6ae_11ef_b9d3_0242ac120059row2_col10\" class=\"data row2 col10\" >0.517860</td>\n",
       "                        <td id=\"T_38427a72_c6ae_11ef_b9d3_0242ac120059row2_col11\" class=\"data row2 col11\" >0.004393</td>\n",
       "            </tr>\n",
       "            <tr>\n",
       "                        <th id=\"T_38427a72_c6ae_11ef_b9d3_0242ac120059level0_row3\" class=\"row_heading level0 row3\" >Reward</th>\n",
       "                        <td id=\"T_38427a72_c6ae_11ef_b9d3_0242ac120059row3_col0\" class=\"data row3 col0\" >1.104326</td>\n",
       "                        <td id=\"T_38427a72_c6ae_11ef_b9d3_0242ac120059row3_col1\" class=\"data row3 col1\" ></td>\n",
       "                        <td id=\"T_38427a72_c6ae_11ef_b9d3_0242ac120059row3_col2\" class=\"data row3 col2\" ></td>\n",
       "                        <td id=\"T_38427a72_c6ae_11ef_b9d3_0242ac120059row3_col3\" class=\"data row3 col3\" ></td>\n",
       "                        <td id=\"T_38427a72_c6ae_11ef_b9d3_0242ac120059row3_col4\" class=\"data row3 col4\" ></td>\n",
       "                        <td id=\"T_38427a72_c6ae_11ef_b9d3_0242ac120059row3_col5\" class=\"data row3 col5\" ></td>\n",
       "                        <td id=\"T_38427a72_c6ae_11ef_b9d3_0242ac120059row3_col6\" class=\"data row3 col6\" ></td>\n",
       "                        <td id=\"T_38427a72_c6ae_11ef_b9d3_0242ac120059row3_col7\" class=\"data row3 col7\" ></td>\n",
       "                        <td id=\"T_38427a72_c6ae_11ef_b9d3_0242ac120059row3_col8\" class=\"data row3 col8\" ></td>\n",
       "                        <td id=\"T_38427a72_c6ae_11ef_b9d3_0242ac120059row3_col9\" class=\"data row3 col9\" ></td>\n",
       "                        <td id=\"T_38427a72_c6ae_11ef_b9d3_0242ac120059row3_col10\" class=\"data row3 col10\" ></td>\n",
       "                        <td id=\"T_38427a72_c6ae_11ef_b9d3_0242ac120059row3_col11\" class=\"data row3 col11\" ></td>\n",
       "            </tr>\n",
       "            <tr>\n",
       "                        <th id=\"T_38427a72_c6ae_11ef_b9d3_0242ac120059level0_row4\" class=\"row_heading level0 row4\" >Episode Terminated</th>\n",
       "                        <td id=\"T_38427a72_c6ae_11ef_b9d3_0242ac120059row4_col0\" class=\"data row4 col0\" >False</td>\n",
       "                        <td id=\"T_38427a72_c6ae_11ef_b9d3_0242ac120059row4_col1\" class=\"data row4 col1\" ></td>\n",
       "                        <td id=\"T_38427a72_c6ae_11ef_b9d3_0242ac120059row4_col2\" class=\"data row4 col2\" ></td>\n",
       "                        <td id=\"T_38427a72_c6ae_11ef_b9d3_0242ac120059row4_col3\" class=\"data row4 col3\" ></td>\n",
       "                        <td id=\"T_38427a72_c6ae_11ef_b9d3_0242ac120059row4_col4\" class=\"data row4 col4\" ></td>\n",
       "                        <td id=\"T_38427a72_c6ae_11ef_b9d3_0242ac120059row4_col5\" class=\"data row4 col5\" ></td>\n",
       "                        <td id=\"T_38427a72_c6ae_11ef_b9d3_0242ac120059row4_col6\" class=\"data row4 col6\" ></td>\n",
       "                        <td id=\"T_38427a72_c6ae_11ef_b9d3_0242ac120059row4_col7\" class=\"data row4 col7\" ></td>\n",
       "                        <td id=\"T_38427a72_c6ae_11ef_b9d3_0242ac120059row4_col8\" class=\"data row4 col8\" ></td>\n",
       "                        <td id=\"T_38427a72_c6ae_11ef_b9d3_0242ac120059row4_col9\" class=\"data row4 col9\" ></td>\n",
       "                        <td id=\"T_38427a72_c6ae_11ef_b9d3_0242ac120059row4_col10\" class=\"data row4 col10\" ></td>\n",
       "                        <td id=\"T_38427a72_c6ae_11ef_b9d3_0242ac120059row4_col11\" class=\"data row4 col11\" ></td>\n",
       "            </tr>\n",
       "    </tbody></table>"
      ],
      "text/plain": [
       "<pandas.io.formats.style.Styler at 0x78a5926fc390>"
      ]
     },
     "metadata": {},
     "output_type": "display_data"
    }
   ],
   "source": [
    "# Select an action\n",
    "action = 0\n",
    "\n",
    "# Run a single time step of the environment's dynamics with the given action.\n",
    "next_state, reward, done, _ = env.step(action)\n",
    "\n",
    "# Display table with values.\n",
    "utils.display_table(current_state, action, next_state, reward, done)\n",
    "\n",
    "# Replace the `current_state` with the state after the action is taken\n",
    "current_state = next_state"
   ]
  },
  {
   "cell_type": "markdown",
   "metadata": {},
   "source": [
    "In practice, when we train the agent we use a loop to allow the agent to take many consecutive actions during an episode."
   ]
  },
  {
   "cell_type": "markdown",
   "metadata": {},
   "source": [
    "<a name=\"6\"></a>\n",
    "## 6 - Deep Q-Learning\n",
    "\n",
    "In cases where both the state and action space are discrete we can estimate the action-value function iteratively by using the Bellman equation:\n",
    "\n",
    "$$\n",
    "Q_{i+1}(s,a) = R + \\gamma \\max_{a'}Q_i(s',a')\n",
    "$$\n",
    "\n",
    "This iterative method converges to the optimal action-value function $Q^*(s,a)$ as $i\\to\\infty$. This means that the agent just needs to gradually explore the state-action space and keep updating the estimate of $Q(s,a)$ until it converges to the optimal action-value function $Q^*(s,a)$. However, in cases where the state space is continuous it becomes practically impossible to explore the entire state-action space. Consequently, this also makes it practically impossible to gradually estimate $Q(s,a)$ until it converges to $Q^*(s,a)$.\n",
    "\n",
    "In the Deep $Q$-Learning, we solve this problem by using a neural network to estimate the action-value function $Q(s,a)\\approx Q^*(s,a)$. We call this neural network a $Q$-Network and it can be trained by adjusting its weights at each iteration to minimize the mean-squared error in the Bellman equation.\n",
    "\n",
    "Unfortunately, using neural networks in reinforcement learning to estimate action-value functions has proven to be highly unstable. Luckily, there's a couple of techniques that can be employed to avoid instabilities. These techniques consist of using a ***Target Network*** and ***Experience Replay***. We will explore these two techniques in the following sections."
   ]
  },
  {
   "cell_type": "markdown",
   "metadata": {},
   "source": [
    "<a name=\"6.1\"></a>\n",
    "### 6.1 Target Network\n",
    "\n",
    "We can train the $Q$-Network by adjusting it's weights at each iteration to minimize the mean-squared error in the Bellman equation, where the target values are given by:\n",
    "\n",
    "$$\n",
    "y = R + \\gamma \\max_{a'}Q(s',a';w)\n",
    "$$\n",
    "\n",
    "where $w$ are the weights of the $Q$-Network. This means that we are adjusting the weights $w$ at each iteration to minimize the following error:\n",
    "\n",
    "$$\n",
    "\\overbrace{\\underbrace{R + \\gamma \\max_{a'}Q(s',a'; w)}_{\\rm {y~target}} - Q(s,a;w)}^{\\rm {Error}}\n",
    "$$\n",
    "\n",
    "Notice that this forms a problem because the $y$ target is changing on every iteration. Having a constantly moving target can lead to oscillations and instabilities. To avoid this, we can create\n",
    "a separate neural network for generating the $y$ targets. We call this separate neural network the **target $\\hat Q$-Network** and it will have the same architecture as the original $Q$-Network. By using the target $\\hat Q$-Network, the above error becomes:\n",
    "\n",
    "$$\n",
    "\\overbrace{\\underbrace{R + \\gamma \\max_{a'}\\hat{Q}(s',a'; w^-)}_{\\rm {y~target}} - Q(s,a;w)}^{\\rm {Error}}\n",
    "$$\n",
    "\n",
    "where $w^-$ and $w$ are the weights of the target $\\hat Q$-Network and $Q$-Network, respectively.\n",
    "\n",
    "In practice, we will use the following algorithm: every $C$ time steps we will use the $\\hat Q$-Network to generate the $y$ targets and update the weights of the target $\\hat Q$-Network using the weights of the $Q$-Network. We will update the weights $w^-$ of the the target $\\hat Q$-Network using a **soft update**. This means that we will update the weights $w^-$ using the following rule:\n",
    " \n",
    "$$\n",
    "w^-\\leftarrow \\tau w + (1 - \\tau) w^-\n",
    "$$\n",
    "\n",
    "where $\\tau\\ll 1$. By using the soft update, we are ensuring that the target values, $y$, change slowly, which greatly improves the stability of our learning algorithm."
   ]
  },
  {
   "cell_type": "markdown",
   "metadata": {},
   "source": [
    "<a name=\"ex01\"></a>\n",
    "### Exercise 1\n",
    "\n",
    "In this exercise you will create the $Q$ and target $\\hat Q$ networks and set the optimizer. Remember that the Deep $Q$-Network (DQN) is a neural network that approximates the action-value function $Q(s,a)\\approx Q^*(s,a)$. It does this by learning how to map states to $Q$ values.\n",
    "\n",
    "To solve the Lunar Lander environment, we are going to employ a DQN with the following architecture:\n",
    "\n",
    "* An `Input` layer that takes `state_size` as input.\n",
    "\n",
    "* A `Dense` layer with `64` units and a `relu` activation function.\n",
    "\n",
    "* A `Dense` layer with `64` units and a `relu` activation function.\n",
    "\n",
    "* A `Dense` layer with `num_actions` units and a `linear` activation function. This will be the output layer of our network.\n",
    "\n",
    "\n",
    "In the cell below you should create the $Q$-Network and the target $\\hat Q$-Network using the model architecture described above. Remember that both the $Q$-Network and the target $\\hat Q$-Network have the same architecture.\n",
    "\n",
    "Lastly, you should set `Adam` as the optimizer with a learning rate equal to `ALPHA`. Recall that `ALPHA` was defined in the [Hyperparameters](#2) section. We should note that for this exercise you should use the already imported packages:\n",
    "```python\n",
    "from tensorflow.keras.layers import Dense, Input\n",
    "from tensorflow.keras.optimizers import Adam\n",
    "```"
   ]
  },
  {
   "cell_type": "code",
   "execution_count": 14,
   "metadata": {
    "deletable": false
   },
   "outputs": [],
   "source": [
    "# UNQ_C1\n",
    "# GRADED CELL\n",
    "\n",
    "# Create the Q-Network\n",
    "q_network = Sequential([\n",
    "    ### START CODE HERE ###  \n",
    "    Input(shape=state_size),  # Input layer \n",
    "    Dense(64, activation='relu'),  # First Dense layer  \n",
    "    Dense(64, activation='relu'),  # Second Dense layer  \n",
    "    Dense(num_actions, activation='linear')  # Output layer  \n",
    "    ### END CODE HERE ### \n",
    "    ])\n",
    "\n",
    "# Create the target Q^-Network\n",
    "target_q_network = Sequential([\n",
    "    ### START CODE HERE ###\n",
    "    Input(shape=state_size),   # Input layer\n",
    "    Dense(64, activation='relu'),  # First Dense layer  \n",
    "    Dense(64, activation='relu'),  # Second Dense layer  \n",
    "    Dense(num_actions, activation='linear')  # Output layer  \n",
    "    ### END CODE HERE ###\n",
    "    ])\n",
    "\n",
    "### START CODE HERE ### \n",
    "optimizer = Adam(learning_rate=ALPHA) \n",
    "### END CODE HERE ###"
   ]
  },
  {
   "cell_type": "code",
   "execution_count": 15,
   "metadata": {
    "deletable": false,
    "editable": false
   },
   "outputs": [
    {
     "name": "stdout",
     "output_type": "stream",
     "text": [
      "\u001b[92mAll tests passed!\n",
      "\u001b[92mAll tests passed!\n",
      "\u001b[92mAll tests passed!\n"
     ]
    }
   ],
   "source": [
    "# UNIT TEST\n",
    "from public_tests import *\n",
    "\n",
    "test_network(q_network)\n",
    "test_network(target_q_network)\n",
    "test_optimizer(optimizer, ALPHA) "
   ]
  },
  {
   "cell_type": "markdown",
   "metadata": {},
   "source": [
    "<details>\n",
    "  <summary><font size=\"3\" color=\"darkgreen\"><b>Click for hints</b></font></summary>\n",
    "    \n",
    "```python\n",
    "# Create the Q-Network\n",
    "q_network = Sequential([\n",
    "    Input(shape=state_size),                      \n",
    "    Dense(units=64, activation='relu'),            \n",
    "    Dense(units=64, activation='relu'),            \n",
    "    Dense(units=num_actions, activation='linear'),\n",
    "    ])\n",
    "\n",
    "# Create the target Q^-Network\n",
    "target_q_network = Sequential([\n",
    "    Input(shape=state_size),                       \n",
    "    Dense(units=64, activation='relu'),            \n",
    "    Dense(units=64, activation='relu'),            \n",
    "    Dense(units=num_actions, activation='linear'), \n",
    "    ])\n",
    "\n",
    "optimizer = Adam(learning_rate=ALPHA)                                  \n",
    "``` "
   ]
  },
  {
   "cell_type": "markdown",
   "metadata": {},
   "source": [
    "<a name=\"6.2\"></a>\n",
    "### 6.2 Experience Replay\n",
    "\n",
    "When an agent interacts with the environment, the states, actions, and rewards the agent experiences are sequential by nature. If the agent tries to learn from these consecutive experiences it can run into problems due to the strong correlations between them. To avoid this, we employ a technique known as **Experience Replay** to generate uncorrelated experiences for training our agent. Experience replay consists of storing the agent's experiences (i.e the states, actions, and rewards the agent receives) in a memory buffer and then sampling a random mini-batch of experiences from the buffer to do the learning. The experience tuples $(S_t, A_t, R_t, S_{t+1})$ will be added to the memory buffer at each time step as the agent interacts with the environment.\n",
    "\n",
    "For convenience, we will store the experiences as named tuples."
   ]
  },
  {
   "cell_type": "code",
   "execution_count": 16,
   "metadata": {
    "deletable": false,
    "editable": false
   },
   "outputs": [],
   "source": [
    "# Store experiences as named tuples\n",
    "experience = namedtuple(\"Experience\", field_names=[\"state\", \"action\", \"reward\", \"next_state\", \"done\"])"
   ]
  },
  {
   "cell_type": "markdown",
   "metadata": {},
   "source": [
    "By using experience replay we avoid problematic correlations, oscillations and instabilities. In addition, experience replay also allows the agent to potentially use the same experience in multiple weight updates, which increases data efficiency."
   ]
  },
  {
   "cell_type": "markdown",
   "metadata": {},
   "source": [
    "<a name=\"7\"></a>\n",
    "## 7 - Deep Q-Learning Algorithm with Experience Replay\n",
    "\n",
    "Now that we know all the techniques that we are going to use, we can put them together to arrive at the Deep Q-Learning Algorithm With Experience Replay.\n",
    "<br>\n",
    "<br>\n",
    "<figure>\n",
    "  <img src = \"images/deep_q_algorithm.png\" width = 90% style = \"border: thin silver solid; padding: 0px\">\n",
    "      <figcaption style = \"text-align: center; font-style: italic\">Fig 3. Deep Q-Learning with Experience Replay.</figcaption>\n",
    "</figure>"
   ]
  },
  {
   "cell_type": "markdown",
   "metadata": {},
   "source": [
    "<a name=\"ex02\"></a>\n",
    "### Exercise 2\n",
    "\n",
    "In this exercise you will implement line ***12*** of the algorithm outlined in *Fig 3* above and you will also compute the loss between the $y$ targets and the $Q(s,a)$ values. In the cell below, complete the `compute_loss` function by setting the $y$ targets equal to:\n",
    "\n",
    "$$\n",
    "\\begin{equation}\n",
    "    y_j =\n",
    "    \\begin{cases}\n",
    "      R_j & \\text{if episode terminates at step  } j+1\\\\\n",
    "      R_j + \\gamma \\max_{a'}\\hat{Q}(s_{j+1},a') & \\text{otherwise}\\\\\n",
    "    \\end{cases}       \n",
    "\\end{equation}\n",
    "$$\n",
    "\n",
    "Here are a couple of things to note:\n",
    "\n",
    "* The `compute_loss` function takes in a mini-batch of experience tuples. This mini-batch of experience tuples is unpacked to extract the `states`, `actions`, `rewards`, `next_states`, and `done_vals`. You should keep in mind that these variables are *TensorFlow Tensors* whose size will depend on the mini-batch size. For example, if the mini-batch size is `64` then both `rewards` and `done_vals` will be TensorFlow Tensors with `64` elements.\n",
    "\n",
    "\n",
    "* Using `if/else` statements to set the $y$ targets will not work when the variables are tensors with many elements. However, notice that you can use the `done_vals` to implement the above in a single line of code. To do this, recall that the `done` variable is a Boolean variable that takes the value `True` when an episode terminates at step $j+1$ and it is `False` otherwise. Taking into account that a Boolean value of `True` has the numerical value of `1` and a Boolean value of `False` has the numerical value of `0`, you can use the factor `(1 - done_vals)` to implement the above in a single line of code. Here's a hint: notice that `(1 - done_vals)` has a value of `0` when `done_vals` is `True` and a value of `1` when `done_vals` is `False`. \n",
    "\n",
    "Lastly, compute the loss by calculating the Mean-Squared Error (`MSE`) between the `y_targets` and the `q_values`. To calculate the mean-squared error you should use the already imported package `MSE`:\n",
    "```python\n",
    "from tensorflow.keras.losses import MSE\n",
    "```"
   ]
  },
  {
   "cell_type": "code",
   "execution_count": 17,
   "metadata": {
    "deletable": false
   },
   "outputs": [],
   "source": [
    "# UNQ_C2\n",
    "# GRADED FUNCTION: calculate_loss\n",
    "\n",
    "def compute_loss(experiences, gamma, q_network, target_q_network):\n",
    "    \"\"\" \n",
    "    Calculates the loss.\n",
    "    \n",
    "    Args:\n",
    "      experiences: (tuple) tuple of [\"state\", \"action\", \"reward\", \"next_state\", \"done\"] namedtuples\n",
    "      gamma: (float) The discount factor.\n",
    "      q_network: (tf.keras.Sequential) Keras model for predicting the q_values\n",
    "      target_q_network: (tf.keras.Sequential) Keras model for predicting the targets\n",
    "          \n",
    "    Returns:\n",
    "      loss: (TensorFlow Tensor(shape=(0,), dtype=int32)) the Mean-Squared Error between\n",
    "            the y targets and the Q(s,a) values.\n",
    "    \"\"\"\n",
    "\n",
    "    # Unpack the mini-batch of experience tuples\n",
    "    states, actions, rewards, next_states, done_vals = experiences\n",
    "    \n",
    "    # Compute max Q^(s,a)\n",
    "    max_qsa = tf.reduce_max(target_q_network(next_states), axis=-1)\n",
    "    \n",
    "    # Set y = R if episode terminates, otherwise set y = R + γ max Q^(s,a).\n",
    "    ### START CODE HERE ### \n",
    "    y_targets = rewards + (1 - done_vals) * gamma * max_qsa  \n",
    "    \n",
    "    ### END CODE HERE ###\n",
    "    \n",
    "    # Get the q_values and reshape to match y_targets\n",
    "    q_values = q_network(states)\n",
    "    q_values = tf.gather_nd(q_values, tf.stack([tf.range(q_values.shape[0]),\n",
    "                                                tf.cast(actions, tf.int32)], axis=1))\n",
    "        \n",
    "    # Compute the loss\n",
    "    ### START CODE HERE ### \n",
    "    loss = MSE(y_targets, q_values)\n",
    "    ### END CODE HERE ### \n",
    "    \n",
    "    return loss"
   ]
  },
  {
   "cell_type": "code",
   "execution_count": 18,
   "metadata": {
    "deletable": false,
    "editable": false
   },
   "outputs": [
    {
     "name": "stdout",
     "output_type": "stream",
     "text": [
      "\u001b[92mAll tests passed!\n"
     ]
    }
   ],
   "source": [
    "# UNIT TEST    \n",
    "test_compute_loss(compute_loss)"
   ]
  },
  {
   "cell_type": "markdown",
   "metadata": {},
   "source": [
    "<details>\n",
    "  <summary><font size=\"3\" color=\"darkgreen\"><b>Click for hints</b></font></summary>\n",
    "    \n",
    "```python\n",
    "def compute_loss(experiences, gamma, q_network, target_q_network):\n",
    "    \"\"\" \n",
    "    Calculates the loss.\n",
    "    \n",
    "    Args:\n",
    "      experiences: (tuple) tuple of [\"state\", \"action\", \"reward\", \"next_state\", \"done\"] namedtuples\n",
    "      gamma: (float) The discount factor.\n",
    "      q_network: (tf.keras.Sequential) Keras model for predicting the q_values\n",
    "      target_q_network: (tf.keras.Sequential) Keras model for predicting the targets\n",
    "          \n",
    "    Returns:\n",
    "      loss: (TensorFlow Tensor(shape=(0,), dtype=int32)) the Mean-Squared Error between\n",
    "            the y targets and the Q(s,a) values.\n",
    "    \"\"\"\n",
    "\n",
    "    \n",
    "    # Unpack the mini-batch of experience tuples\n",
    "    states, actions, rewards, next_states, done_vals = experiences\n",
    "    \n",
    "    # Compute max Q^(s,a)\n",
    "    max_qsa = tf.reduce_max(target_q_network(next_states), axis=-1)\n",
    "    \n",
    "    # Set y = R if episode terminates, otherwise set y = R + γ max Q^(s,a).\n",
    "    y_targets = rewards + (gamma * max_qsa * (1 - done_vals))\n",
    "    \n",
    "    # Get the q_values\n",
    "    q_values = q_network(states)\n",
    "    q_values = tf.gather_nd(q_values, tf.stack([tf.range(q_values.shape[0]),\n",
    "                                                tf.cast(actions, tf.int32)], axis=1))\n",
    "    \n",
    "    # Calculate the loss\n",
    "    loss = MSE(y_targets, q_values)\n",
    "    \n",
    "    return loss\n",
    "\n",
    "``` \n",
    "    "
   ]
  },
  {
   "cell_type": "markdown",
   "metadata": {},
   "source": [
    "<a name=\"8\"></a>\n",
    "## 8 - Update the Network Weights\n",
    "\n",
    "We will use the `agent_learn` function below to implement lines ***12 -14*** of the algorithm outlined in [Fig 3](#7). The `agent_learn` function will update the weights of the $Q$ and target $\\hat Q$ networks using a custom training loop. Because we are using a custom training loop we need to retrieve the gradients via a `tf.GradientTape` instance, and then call `optimizer.apply_gradients()` to update the weights of our $Q$-Network. Note that we are also using the `@tf.function` decorator to increase performance. Without this decorator our training will take twice as long. If you would like to know more about how to increase performance with `@tf.function` take a look at the [TensorFlow documentation](https://www.tensorflow.org/guide/function).\n",
    "\n",
    "The last line of this function updates the weights of the target $\\hat Q$-Network using a [soft update](#6.1). If you want to know how this is implemented in code we encourage you to take a look at the `utils.update_target_network` function in the `utils` module."
   ]
  },
  {
   "cell_type": "code",
   "execution_count": 21,
   "metadata": {
    "deletable": false,
    "editable": false
   },
   "outputs": [],
   "source": [
    "@tf.function\n",
    "def agent_learn(experiences, gamma):\n",
    "    \"\"\"\n",
    "    Updates the weights of the Q networks.\n",
    "    \n",
    "    Args:\n",
    "      experiences: (tuple) tuple of [\"state\", \"action\", \"reward\", \"next_state\", \"done\"] namedtuples\n",
    "      gamma: (float) The discount factor.\n",
    "    \n",
    "    \"\"\"\n",
    "    \n",
    "    # Calculate the loss\n",
    "    with tf.GradientTape() as tape:\n",
    "        loss = compute_loss(experiences, gamma, q_network, target_q_network)\n",
    "\n",
    "    # Get the gradients of the loss with respect to the weights.\n",
    "    gradients = tape.gradient(loss, q_network.trainable_variables)\n",
    "    \n",
    "    # Update the weights of the q_network.\n",
    "    optimizer.apply_gradients(zip(gradients, q_network.trainable_variables))\n",
    "\n",
    "    # update the weights of target q_network\n",
    "    utils.update_target_network(q_network, target_q_network)"
   ]
  },
  {
   "cell_type": "markdown",
   "metadata": {},
   "source": [
    "<a name=\"9\"></a>\n",
    "## 9 - Train the Agent\n",
    "\n",
    "We are now ready to train our agent to solve the Lunar Lander environment. In the cell below we will implement the algorithm in [Fig 3](#7) line by line (please note that we have included the same algorithm below for easy reference. This will prevent you from scrolling up and down the notebook):\n",
    "\n",
    "* **Line 1**: We initialize the `memory_buffer` with a capacity of $N =$ `MEMORY_SIZE`. Notice that we are using a `deque` as the data structure for our `memory_buffer`.\n",
    "\n",
    "\n",
    "* **Line 2**: We skip this line since we already initialized the `q_network` in [Exercise 1](#ex01).\n",
    "\n",
    "\n",
    "* **Line 3**: We initialize the `target_q_network` by setting its weights to be equal to those of the `q_network`.\n",
    "\n",
    "\n",
    "* **Line 4**: We start the outer loop. Notice that we have set $M =$ `num_episodes = 2000`. This number is reasonable because the agent should be able to solve the Lunar Lander environment in less than `2000` episodes using this notebook's default parameters.\n",
    "\n",
    "\n",
    "* **Line 5**: We use the `.reset()` method to reset the environment to the initial state and get the initial state.\n",
    "\n",
    "\n",
    "* **Line 6**: We start the inner loop. Notice that we have set $T =$ `max_num_timesteps = 1000`. This means that the episode will automatically terminate if the episode hasn't terminated after `1000` time steps.\n",
    "\n",
    "\n",
    "* **Line 7**: The agent observes the current `state` and chooses an `action` using an $\\epsilon$-greedy policy. Our agent starts out using a value of $\\epsilon =$ `epsilon = 1` which yields an $\\epsilon$-greedy policy that is equivalent to the equiprobable random policy. This means that at the beginning of our training, the agent is just going to take random actions regardless of the observed `state`. As training progresses we will decrease the value of $\\epsilon$ slowly towards a minimum value using a given $\\epsilon$-decay rate. We want this minimum value to be close to zero because a value of $\\epsilon = 0$ will yield an $\\epsilon$-greedy policy that is equivalent to the greedy policy. This means that towards the end of training, the agent will lean towards selecting the `action` that it believes (based on its past experiences) will maximize $Q(s,a)$. We will set the minimum $\\epsilon$ value to be `0.01` and not exactly 0 because we always want to keep a little bit of exploration during training. If you want to know how this is implemented in code we encourage you to take a look at the `utils.get_action` function in the `utils` module.\n",
    "\n",
    "\n",
    "* **Line 8**: We use the `.step()` method to take the given `action` in the environment and get the `reward` and the `next_state`. \n",
    "\n",
    "\n",
    "* **Line 9**: We store the `experience(state, action, reward, next_state, done)` tuple in our `memory_buffer`. Notice that we also store the `done` variable so that we can keep track of when an episode terminates. This allowed us to set the $y$ targets in [Exercise 2](#ex02).\n",
    "\n",
    "\n",
    "* **Line 10**: We check if the conditions are met to perform a learning update. We do this by using our custom `utils.check_update_conditions` function. This function checks if $C =$ `NUM_STEPS_FOR_UPDATE = 4` time steps have occured and if our `memory_buffer` has enough experience tuples to fill a mini-batch. For example, if the mini-batch size is `64`, then our `memory_buffer` should have more than `64` experience tuples in order to pass the latter condition. If the conditions are met, then the `utils.check_update_conditions` function will return a value of `True`, otherwise it will return a value of `False`.\n",
    "\n",
    "\n",
    "* **Lines 11 - 14**: If the `update` variable is `True` then we perform a learning update. The learning update consists of sampling a random mini-batch of experience tuples from our `memory_buffer`, setting the $y$ targets, performing gradient descent, and updating the weights of the networks. We will use the `agent_learn` function we defined in [Section 8](#8) to perform the latter 3.\n",
    "\n",
    "\n",
    "* **Line 15**: At the end of each iteration of the inner loop we set `next_state` as our new `state` so that the loop can start again from this new state. In addition, we check if the episode has reached a terminal state (i.e we check if `done = True`). If a terminal state has been reached, then we break out of the inner loop.\n",
    "\n",
    "\n",
    "* **Line 16**: At the end of each iteration of the outer loop we update the value of $\\epsilon$, and check if the environment has been solved. We consider that the environment has been solved if the agent receives an average of `200` points in the last `100` episodes. If the environment has not been solved we continue the outer loop and start a new episode.\n",
    "\n",
    "Finally, we wanted to note that we have included some extra variables to keep track of the total number of points the agent received in each episode. This will help us determine if the agent has solved the environment and it will also allow us to see how our agent performed during training. We also use the `time` module to measure how long the training takes. \n",
    "\n",
    "<br>\n",
    "<br>\n",
    "<figure>\n",
    "  <img src = \"images/deep_q_algorithm.png\" width = 90% style = \"border: thin silver solid; padding: 0px\">\n",
    "      <figcaption style = \"text-align: center; font-style: italic\">Fig 4. Deep Q-Learning with Experience Replay.</figcaption>\n",
    "</figure>\n",
    "<br>\n",
    "\n",
    "**Note:** With this notebook's default parameters, the following cell takes between 10 to 15 minutes to run. "
   ]
  },
  {
   "cell_type": "code",
   "execution_count": 22,
   "metadata": {
    "deletable": false,
    "editable": false
   },
   "outputs": [
    {
     "name": "stdout",
     "output_type": "stream",
     "text": [
      "Episode 100 | Total point average of the last 100 episodes: -87.51\n",
      "Episode 200 | Total point average of the last 100 episodes: -27.97\n",
      "Episode 300 | Total point average of the last 100 episodes: 45.086\n",
      "Episode 400 | Total point average of the last 100 episodes: 157.21\n",
      "Episode 480 | Total point average of the last 100 episodes: 201.49\n",
      "\n",
      "Environment solved in 480 episodes!\n",
      "\n",
      "Total Runtime: 522.81 s (8.71 min)\n"
     ]
    }
   ],
   "source": [
    "start = time.time()\n",
    "\n",
    "num_episodes = 2000\n",
    "max_num_timesteps = 1000\n",
    "\n",
    "total_point_history = []\n",
    "\n",
    "num_p_av = 100    # number of total points to use for averaging\n",
    "epsilon = 1.0     # initial ε value for ε-greedy policy\n",
    "\n",
    "# Create a memory buffer D with capacity N\n",
    "memory_buffer = deque(maxlen=MEMORY_SIZE)\n",
    "\n",
    "# Set the target network weights equal to the Q-Network weights\n",
    "target_q_network.set_weights(q_network.get_weights())\n",
    "\n",
    "for i in range(num_episodes):\n",
    "    \n",
    "    # Reset the environment to the initial state and get the initial state\n",
    "    state = env.reset()\n",
    "    total_points = 0\n",
    "    \n",
    "    for t in range(max_num_timesteps):\n",
    "        \n",
    "        # From the current state S choose an action A using an ε-greedy policy\n",
    "        state_qn = np.expand_dims(state, axis=0)  # state needs to be the right shape for the q_network\n",
    "        q_values = q_network(state_qn)\n",
    "        action = utils.get_action(q_values, epsilon)\n",
    "        \n",
    "        # Take action A and receive reward R and the next state S'\n",
    "        next_state, reward, done, _ = env.step(action)\n",
    "        \n",
    "        # Store experience tuple (S,A,R,S') in the memory buffer.\n",
    "        # We store the done variable as well for convenience.\n",
    "        memory_buffer.append(experience(state, action, reward, next_state, done))\n",
    "        \n",
    "        # Only update the network every NUM_STEPS_FOR_UPDATE time steps.\n",
    "        update = utils.check_update_conditions(t, NUM_STEPS_FOR_UPDATE, memory_buffer)\n",
    "        \n",
    "        if update:\n",
    "            # Sample random mini-batch of experience tuples (S,A,R,S') from D\n",
    "            experiences = utils.get_experiences(memory_buffer)\n",
    "            \n",
    "            # Set the y targets, perform a gradient descent step,\n",
    "            # and update the network weights.\n",
    "            agent_learn(experiences, GAMMA)\n",
    "        \n",
    "        state = next_state.copy()\n",
    "        total_points += reward\n",
    "        \n",
    "        if done:\n",
    "            break\n",
    "            \n",
    "    total_point_history.append(total_points)\n",
    "    av_latest_points = np.mean(total_point_history[-num_p_av:])\n",
    "    \n",
    "    # Update the ε value\n",
    "    epsilon = utils.get_new_eps(epsilon)\n",
    "\n",
    "    print(f\"\\rEpisode {i+1} | Total point average of the last {num_p_av} episodes: {av_latest_points:.2f}\", end=\"\")\n",
    "\n",
    "    if (i+1) % num_p_av == 0:\n",
    "        print(f\"\\rEpisode {i+1} | Total point average of the last {num_p_av} episodes: {av_latest_points:.2f}\")\n",
    "\n",
    "    # We will consider that the environment is solved if we get an\n",
    "    # average of 200 points in the last 100 episodes.\n",
    "    if av_latest_points >= 200.0:\n",
    "        print(f\"\\n\\nEnvironment solved in {i+1} episodes!\")\n",
    "        q_network.save('lunar_lander_model.h5')\n",
    "        break\n",
    "        \n",
    "tot_time = time.time() - start\n",
    "\n",
    "print(f\"\\nTotal Runtime: {tot_time:.2f} s ({(tot_time/60):.2f} min)\")"
   ]
  },
  {
   "cell_type": "markdown",
   "metadata": {},
   "source": [
    "We can plot the total point history along with the moving average to see how our agent improved during training. If you want to know about the different plotting options available in the `utils.plot_history` function we encourage you to take a look at the `utils` module."
   ]
  },
  {
   "cell_type": "code",
   "execution_count": 23,
   "metadata": {
    "deletable": false,
    "editable": false,
    "id": "E_EUXxurfe8m",
    "scrolled": false
   },
   "outputs": [
    {
     "data": {
      "image/png": "[encoded data removed]",
      "text/plain": [
       "<Figure size 720x504 with 1 Axes>"
      ]
     },
     "metadata": {},
     "output_type": "display_data"
    }
   ],
   "source": [
    "# Plot the total point history along with the moving average\n",
    "utils.plot_history(total_point_history)"
   ]
  },
  {
   "cell_type": "markdown",
   "metadata": {
    "id": "c_xwgaX5MnYt"
   },
   "source": [
    "<a name=\"10\"></a>\n",
    "## 10 - See the Trained Agent In Action\n",
    "\n",
    "Now that we have trained our agent, we can see it in action. We will use the `utils.create_video` function to create a video of our agent interacting with the environment using the trained $Q$-Network. The `utils.create_video` function uses the `imageio` library to create the video. This library produces some warnings that can be distracting, so, to suppress these warnings we run the code below."
   ]
  },
  {
   "cell_type": "code",
   "execution_count": 24,
   "metadata": {
    "deletable": false,
    "editable": false
   },
   "outputs": [],
   "source": [
    "# Suppress warnings from imageio\n",
    "import logging\n",
    "logging.getLogger().setLevel(logging.ERROR)"
   ]
  },
  {
   "cell_type": "markdown",
   "metadata": {},
   "source": [
    "In the cell below we create a video of our agent interacting with the Lunar Lander environment using the trained `q_network`. The video is saved to the `videos` folder with the given `filename`. We use the `utils.embed_mp4` function to embed the video in the Jupyter Notebook so that we can see it here directly without having to download it.\n",
    "\n",
    "We should note that since the lunar lander starts with a random initial force applied to its center of mass, every time you run the cell below you will see a different video. If the agent was trained properly, it should be able to land the lunar lander in the landing pad every time, regardless of the initial force applied to its center of mass."
   ]
  },
  {
   "cell_type": "code",
   "execution_count": 25,
   "metadata": {
    "deletable": false,
    "editable": false,
    "id": "3Ttb_zLeJKiG"
   },
   "outputs": [
    {
     "data": {
      "text/html": [
       "\n",
       "    <video width=\"840\" height=\"480\" controls>\n",
       "    <source src=\"data:video/mp4;base64,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\" type=\"video/mp4\">\n",
       "    Your browser does not support the video tag.\n",
       "    </video>"
      ],
      "text/plain": [
       "<IPython.core.display.HTML object>"
      ]
     },
     "execution_count": 25,
     "metadata": {},
     "output_type": "execute_result"
    }
   ],
   "source": [
    "filename = \"./videos/lunar_lander.mp4\"\n",
    "\n",
    "utils.create_video(filename, env, q_network)\n",
    "utils.embed_mp4(filename)"
   ]
  },
  {
   "cell_type": "markdown",
   "metadata": {},
   "source": [
    "<a name=\"11\"></a>\n",
    "## 11 - Congratulations!\n",
    "\n",
    "You have successfully used Deep Q-Learning with Experience Replay to train an agent to land a lunar lander safely on a landing pad on the surface of the moon. Congratulations!"
   ]
  },
  {
   "cell_type": "markdown",
   "metadata": {},
   "source": [
    "<a name=\"12\"></a>\n",
    "## 12 - References\n",
    "\n",
    "If you would like to learn more about Deep Q-Learning, we recommend you check out the following papers.\n",
    "\n",
    "\n",
    "* Mnih, V., Kavukcuoglu, K., Silver, D. et al. Human-level control through deep reinforcement learning. Nature 518, 529–533 (2015).\n",
    "\n",
    "\n",
    "* Lillicrap, T. P., Hunt, J. J., Pritzel, A., et al. Continuous Control with Deep Reinforcement Learning. ICLR (2016).\n",
    "\n",
    "\n",
    "* Mnih, V., Kavukcuoglu, K., Silver, D. et al. Playing Atari with Deep Reinforcement Learning. arXiv e-prints.  arXiv:1312.5602 (2013)."
   ]
  },
  {
   "cell_type": "markdown",
   "metadata": {},
   "source": [
    "<details>\n",
    "  <summary><font size=\"2\" color=\"darkgreen\"><b>Please click here if you want to experiment with any of the non-graded code.</b></font></summary>\n",
    "    <p><i><b>Important Note: Please only do this when you've already passed the assignment to avoid problems with the autograder.</b></i>\n",
    "    <ol>\n",
    "        <li> On the notebook’s menu, click “View” > “Cell Toolbar” > “Edit Metadata”</li>\n",
    "        <li> Hit the “Edit Metadata” button next to the code cell which you want to lock/unlock</li>\n",
    "        <li> Set the attribute value for “editable” to:\n",
    "            <ul>\n",
    "                <li> “true” if you want to unlock it </li>\n",
    "                <li> “false” if you want to lock it </li>\n",
    "            </ul>\n",
    "        </li>\n",
    "        <li> On the notebook’s menu, click “View” > “Cell Toolbar” > “None” </li>\n",
    "    </ol>\n",
    "    <p> Here's a short demo of how to do the steps above: \n",
    "        <br>\n",
    "        <img src=\"https://lh3.google.com/u/0/d/14Xy_Mb17CZVgzVAgq7NCjMVBvSae3xO1\" align=\"center\" alt=\"unlock_cells.gif\">\n",
    "</details>"
   ]
  }
 ],
 "metadata": {
  "accelerator": "GPU",
  "colab": {
   "collapsed_sections": [],
   "name": "TensorFlow - Lunar Lander.ipynb",
   "provenance": []
  },
  "kernelspec": {
   "display_name": "Python 3",
   "language": "python",
   "name": "python3"
  },
  "language_info": {
   "codemirror_mode": {
    "name": "ipython",
    "version": 3
   },
   "file_extension": ".py",
   "mimetype": "text/x-python",
   "name": "python",
   "nbconvert_exporter": "python",
   "pygments_lexer": "ipython3",
   "version": "3.7.6"
  }
 },
 "nbformat": 4,
 "nbformat_minor": 1
}
